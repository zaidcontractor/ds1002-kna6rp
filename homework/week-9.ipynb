{
  "nbformat": 4,
  "nbformat_minor": 0,
  "metadata": {
    "colab": {
      "provenance": [],
      "include_colab_link": true
    },
    "kernelspec": {
      "name": "python3",
      "display_name": "Python 3"
    },
    "language_info": {
      "name": "python"
    }
  },
  "cells": [
    {
      "cell_type": "markdown",
      "metadata": {
        "id": "view-in-github",
        "colab_type": "text"
      },
      "source": [
        "<a href=\"https://colab.research.google.com/github/zaidcontractor/ds1002-kna6rp/blob/main/homework/week-9.ipynb\" target=\"_parent\"><img src=\"https://colab.research.google.com/assets/colab-badge.svg\" alt=\"Open In Colab\"/></a>"
      ]
    },
    {
      "cell_type": "markdown",
      "source": [
        "# Homework - Week 9\n",
        "\n",
        "Complete the following blocks as specified in the directions. Run each cell to return the desired output. Save your notebook back to your GitHub repository and submit the GitHub URL to your notebook for review."
      ],
      "metadata": {
        "id": "phbaQTT5gy8A"
      }
    },
    {
      "cell_type": "markdown",
      "source": [
        "## Functions\n",
        "\n",
        "In the cell below define a function that takes one parameter (in the form of a list) called `names` and returns a simple greeting for each name, such as\n",
        "\n",
        "    \"Hello Natasha, it's so nice to meet you\"\n",
        "    \"Hello Sid, it's so nice to meet you\"\n",
        "\n",
        "Define the function and run it, and in another cell below call the function populated with a var of a list of names."
      ],
      "metadata": {
        "id": "38Pg39pMrDua"
      }
    },
    {
      "cell_type": "code",
      "source": [
        "#defining the function\n",
        "def greeting(names):\n",
        "  for i in names:\n",
        "    print(\"Hello \" + i + \", it's so nice to meet you.\")"
      ],
      "metadata": {
        "id": "kdFLCHtOg53p"
      },
      "execution_count": 4,
      "outputs": []
    },
    {
      "cell_type": "code",
      "source": [
        "#running the function\n",
        "greeting([\"Sam\",\"John\",\"Michael\"])"
      ],
      "metadata": {
        "id": "JlNPe_XUsmog",
        "outputId": "85a907d5-1ff1-41a9-9a8d-fcfc4e7949bc",
        "colab": {
          "base_uri": "https://localhost:8080/"
        }
      },
      "execution_count": 5,
      "outputs": [
        {
          "output_type": "stream",
          "name": "stdout",
          "text": [
            "Hello Sam, it's so nice to meet you.\n",
            "Hello John, it's so nice to meet you.\n",
            "Hello Michael, it's so nice to meet you.\n"
          ]
        }
      ]
    },
    {
      "cell_type": "markdown",
      "source": [
        "Using the following list, pass it into a function you define that will evaluate the list and return a count of how many items is in it. Be creative.\n",
        "\n",
        "```\n",
        "mylist = [\"Toronto\",\"Buffalo\",\"Syracuse\",\"Albany\",\"Schenectady\",\"Brooklyn\",\"Rome\",\"Ithaca\"]\n",
        "```"
      ],
      "metadata": {
        "id": "mXqNACpkrdUZ"
      }
    },
    {
      "cell_type": "code",
      "source": [
        "#item count function\n",
        "mylist = [\"Toronto\",\"Buffalo\",\"Syracuse\",\"Albany\",\"Schenectady\",\"Brooklyn\",\"Rome\",\"Ithaca\"]\n",
        "\n",
        "def itemcount(thislist):\n",
        "  return len(thislist)\n",
        "\n",
        "itemcount(mylist)"
      ],
      "metadata": {
        "id": "mvxOzRSisg0a",
        "outputId": "b98ac7b9-a55b-4972-a0a9-8a00ec101308",
        "colab": {
          "base_uri": "https://localhost:8080/"
        }
      },
      "execution_count": 10,
      "outputs": [
        {
          "output_type": "execute_result",
          "data": {
            "text/plain": [
              "8"
            ]
          },
          "metadata": {},
          "execution_count": 10
        }
      ]
    },
    {
      "cell_type": "markdown",
      "source": [
        "## Input Validation\n",
        "\n",
        "Write a function below that defines two input parameters as `bool` and returns a `bool`.\n",
        "In the cell below that, populate two variables with two different bools (True and False)\n",
        "and pass them into a call of your function."
      ],
      "metadata": {
        "id": "YU7FXSCXsFab"
      }
    },
    {
      "cell_type": "code",
      "source": [
        "#input validation\n",
        "\n",
        "def boolreturn(bool1:bool, bool2:bool) -> bool:\n",
        "  if(type(bool1) == bool) and (type(bool2) == bool):\n",
        "    if(bool1 == True) and (bool2 == True):\n",
        "      print(True)\n",
        "    else: print(False);\n",
        "\n",
        "  else: print(\"Wrong data type. Input two boolean values.\")\n",
        "\n",
        "boolreturn(True, True)\n",
        "boolreturn(True, False)\n",
        "boolreturn(False, True)\n",
        "boolreturn(False, False)\n",
        "boolreturn(True, 5)"
      ],
      "metadata": {
        "id": "DGMJZjlysfHU",
        "outputId": "139e766a-76e9-4470-8b72-ba8f79a55025",
        "colab": {
          "base_uri": "https://localhost:8080/"
        }
      },
      "execution_count": 14,
      "outputs": [
        {
          "output_type": "stream",
          "name": "stdout",
          "text": [
            "True\n",
            "False\n",
            "False\n",
            "False\n",
            "Wrong data type. Input two boolean values.\n"
          ]
        }
      ]
    },
    {
      "cell_type": "markdown",
      "source": [
        "## Global Variables\n",
        "\n",
        "Define a global variable and populate it with a data type (int, str, bool, float, etc.)"
      ],
      "metadata": {
        "id": "xXZTr5fdsd5M"
      }
    },
    {
      "cell_type": "code",
      "source": [
        "#defining a global variable\n",
        "\n",
        "global var\n",
        "var = \"global\""
      ],
      "metadata": {
        "id": "HN8CFLVRs6_L"
      },
      "execution_count": 16,
      "outputs": []
    },
    {
      "cell_type": "markdown",
      "source": [
        "Now create a function that prints out the global variable. Call the function and display the value of the var."
      ],
      "metadata": {
        "id": "G1Auc6l1s8F6"
      }
    },
    {
      "cell_type": "code",
      "source": [
        "#function printing out global variable\n",
        "\n",
        "def printglobal(variable):\n",
        "  print(variable)\n",
        "\n",
        "printglobal(var)"
      ],
      "metadata": {
        "id": "Q6O0Ep_wtBWJ",
        "outputId": "e380fc4b-59ba-440e-ce4a-3f8f69a69b9f",
        "colab": {
          "base_uri": "https://localhost:8080/"
        }
      },
      "execution_count": 17,
      "outputs": [
        {
          "output_type": "stream",
          "name": "stdout",
          "text": [
            "global\n"
          ]
        }
      ]
    },
    {
      "cell_type": "markdown",
      "source": [
        "Now create a function that creates its own global var and populates it.\n",
        "Call the function and then print out the global var from outside of the function."
      ],
      "metadata": {
        "id": "IN2TRQI8tCC4"
      }
    },
    {
      "cell_type": "code",
      "source": [
        "#function that creates its own global variable\n",
        "\n",
        "def ownglobalvar():\n",
        "  global xx\n",
        "  xx = \"I am global\"\n",
        "  print(xx)\n",
        "\n",
        "ownglobalvar()"
      ],
      "metadata": {
        "id": "Oz4rnmfTtKen",
        "outputId": "543641aa-c345-4a58-8e12-78d3a5b40f85",
        "colab": {
          "base_uri": "https://localhost:8080/"
        }
      },
      "execution_count": 20,
      "outputs": [
        {
          "output_type": "stream",
          "name": "stdout",
          "text": [
            "I am global\n"
          ]
        }
      ]
    },
    {
      "cell_type": "markdown",
      "source": [
        "Finally, write a function that updates the value of the global var you defined 3 cells above.\n",
        "\n",
        "1. Within the function, print out the global var you defined 3 cells above.\n",
        "2. Update the global var to have a new value.\n",
        "3. Within the function, print the new value of the global var.\n",
        "\n",
        "Call the function and once more print out the value of the global var from outside of the function."
      ],
      "metadata": {
        "id": "jv0dtym0tLZn"
      }
    },
    {
      "cell_type": "code",
      "source": [
        "#update value of the global variable\n",
        "\n",
        "def updatevalue(variable):\n",
        "  variable = variable + \" has been updated\"\n",
        "  print(variable)\n",
        "\n",
        "updatevalue(var)"
      ],
      "metadata": {
        "id": "pnX-hfKouLcG",
        "outputId": "f3ef912d-b721-4574-831e-11a53751bcb8",
        "colab": {
          "base_uri": "https://localhost:8080/"
        }
      },
      "execution_count": 22,
      "outputs": [
        {
          "output_type": "stream",
          "name": "stdout",
          "text": [
            "global has been updated\n"
          ]
        }
      ]
    }
  ]
}
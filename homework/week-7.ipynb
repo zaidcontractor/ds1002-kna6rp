{
  "nbformat": 4,
  "nbformat_minor": 0,
  "metadata": {
    "colab": {
      "provenance": [],
      "include_colab_link": true
    },
    "kernelspec": {
      "name": "python3",
      "display_name": "Python 3"
    },
    "language_info": {
      "name": "python"
    }
  },
  "cells": [
    {
      "cell_type": "markdown",
      "metadata": {
        "id": "view-in-github",
        "colab_type": "text"
      },
      "source": [
        "<a href=\"https://colab.research.google.com/github/zaidcontractor/ds1002-kna6rp/blob/main/homework/week-7.ipynb\" target=\"_parent\"><img src=\"https://colab.research.google.com/assets/colab-badge.svg\" alt=\"Open In Colab\"/></a>"
      ]
    },
    {
      "cell_type": "markdown",
      "source": [
        "# Homework - Week 7\n",
        "\n",
        "Complete the following blocks as specified in the directions. Run each cell to return the desired output. Save your notebook back to your GitHub repository and submit the GitHub URL for your notebook for review.\n",
        "\n",
        "Load the following dataset into pandas and perform the requested operations in code.\n",
        "\n",
        "Source: https://ds1002-resources.s3.amazonaws.com/data/ride_sharing.csv"
      ],
      "metadata": {
        "id": "phbaQTT5gy8A"
      }
    },
    {
      "cell_type": "code",
      "source": [
        "# Load pandas and the data\n",
        "import numpy as np\n",
        "import pandas as pd\n",
        "\n",
        "dataset = pd.read_csv(\"https://ds1002-resources.s3.amazonaws.com/data/ride_sharing.csv\")"
      ],
      "metadata": {
        "id": "kdFLCHtOg53p"
      },
      "execution_count": 26,
      "outputs": []
    },
    {
      "cell_type": "code",
      "source": [
        "# show how many rows and columns are in this dataset\n",
        "print(dataset.shape) #(rows, columns)"
      ],
      "metadata": {
        "id": "Lfh8suAyhKQW",
        "outputId": "389c4510-302c-4c0c-a062-170a810f63ca",
        "colab": {
          "base_uri": "https://localhost:8080/"
        }
      },
      "execution_count": 23,
      "outputs": [
        {
          "output_type": "stream",
          "name": "stdout",
          "text": [
            "(25760, 10)\n"
          ]
        }
      ]
    },
    {
      "cell_type": "code",
      "source": [
        "# The first column, \"duration\" is seen as a string.\n",
        "# Using two snippets of code, clean this column up so that\n",
        "# is now an integer (int64)\n",
        "\n",
        "dataset[\"duration\"] = dataset[\"duration\"].str.strip(\"minutes\")\n",
        "dataset[\"duration\"] = dataset[\"duration\"].astype(\"int\")"
      ],
      "metadata": {
        "id": "KK5-y9nzhMVq",
        "outputId": "c9f33b05-6020-4435-ebe6-9411a3b851b4",
        "colab": {
          "base_uri": "https://localhost:8080/"
        }
      },
      "execution_count": 27,
      "outputs": [
        {
          "output_type": "stream",
          "name": "stdout",
          "text": [
            "duration            int64\n",
            "station_A_id        int64\n",
            "station_A_name     object\n",
            "station_B_id        int64\n",
            "station_B_name     object\n",
            "bike_id             int64\n",
            "user_type           int64\n",
            "user_birth_year     int64\n",
            "user_gender        object\n",
            "tire_size           int64\n",
            "dtype: object\n"
          ]
        }
      ]
    },
    {
      "cell_type": "code",
      "source": [
        "# Now display the datatypes in the updated dataframe\n",
        "print(dataset.dtypes)"
      ],
      "metadata": {
        "id": "QyGJUshvhz1J",
        "outputId": "74c8e0a4-0d13-41bb-d783-61d3541ca736",
        "colab": {
          "base_uri": "https://localhost:8080/"
        }
      },
      "execution_count": 28,
      "outputs": [
        {
          "output_type": "stream",
          "name": "stdout",
          "text": [
            "duration            int64\n",
            "station_A_id        int64\n",
            "station_A_name     object\n",
            "station_B_id        int64\n",
            "station_B_name     object\n",
            "bike_id             int64\n",
            "user_type           int64\n",
            "user_birth_year     int64\n",
            "user_gender        object\n",
            "tire_size           int64\n",
            "dtype: object\n"
          ]
        }
      ]
    },
    {
      "cell_type": "code",
      "source": [
        "# Show the min and max values of ride durations (the shortest and longest rides)\n",
        "# Hint: If 'df' is the name of your dataframe, simply specify the column name\n",
        "# and then append the .min() or .max() methods.\n",
        "print(\"Shortest ride: \" + str(dataset[\"duration\"].min()) + \" minutes\")\n",
        "print(\"Longest ride: \" + str(dataset[\"duration\"].max()) + \" minutes\")"
      ],
      "metadata": {
        "id": "UCA1OswWh5b5",
        "outputId": "05c4ddcc-a0ac-4cbe-d395-7d0ab8efe426",
        "colab": {
          "base_uri": "https://localhost:8080/"
        }
      },
      "execution_count": 32,
      "outputs": [
        {
          "output_type": "stream",
          "name": "stdout",
          "text": [
            "Shortest ride: 1 minutes\n",
            "Longest ride: 1372 minutes\n"
          ]
        }
      ]
    },
    {
      "cell_type": "code",
      "source": [
        "# Create a new dataframe object and populate it with rides that are 60 minutes or less.\n",
        "# Hint: Use the .query() method for the dataframe that we used in class.\n",
        "#new_dataset = dataset[dataset[\"duration\"] <= 60]\n",
        "new_dataset = dataset.query(\"duration <= 60\")"
      ],
      "metadata": {
        "id": "K7mStv5kibbA"
      },
      "execution_count": 39,
      "outputs": []
    },
    {
      "cell_type": "code",
      "source": [
        "# Now show both the min and max values of the duration column for your new dataset.\n",
        "print(\"Minimum value: \" + str(new_dataset[\"duration\"].min()))\n",
        "print(\"Maximum value: \" + str(new_dataset[\"duration\"].max()))"
      ],
      "metadata": {
        "id": "v63UdQjNi-w5",
        "outputId": "8ff42310-98cc-4812-c576-e29ca0a33599",
        "colab": {
          "base_uri": "https://localhost:8080/"
        }
      },
      "execution_count": 38,
      "outputs": [
        {
          "output_type": "stream",
          "name": "stdout",
          "text": [
            "Minimum value: 1\n",
            "Maximum value: 60\n"
          ]
        }
      ]
    },
    {
      "cell_type": "code",
      "source": [
        "# Using the new dataframe, update it so that is ONLY has records where\n",
        "# the tire_size is 26.\n",
        "new_dataset = new_dataset.query(\"25 < tire_size < 27\")\n",
        "new_dataset[\"tire_size\"].head(5)"
      ],
      "metadata": {
        "id": "xTzb_j9rjGk2",
        "outputId": "886cb424-05ac-494a-d9c3-7a02487df638",
        "colab": {
          "base_uri": "https://localhost:8080/"
        }
      },
      "execution_count": 42,
      "outputs": [
        {
          "output_type": "execute_result",
          "data": {
            "text/plain": [
              "0     26\n",
              "3     26\n",
              "6     26\n",
              "9     26\n",
              "12    26\n",
              "Name: tire_size, dtype: int64"
            ]
          },
          "metadata": {},
          "execution_count": 42
        }
      ]
    },
    {
      "cell_type": "code",
      "source": [
        "# Finally, produce a count of all records with FEMALE riders\n",
        "# using the 26-inch wheeled rental bikes for their rentals of\n",
        "# one hour or less.\n",
        "female_riders = new_dataset.reset_index().set_index([\"user_gender\"])\n",
        "female_riders = female_riders.loc[\"Female\"]\n",
        "female_riders.head(5)\n",
        "print(\"Count is equal to: \" + str(len(female_riders)))"
      ],
      "metadata": {
        "id": "0cwbfj66jrG9",
        "outputId": "e08809d2-3f19-47e9-a17b-ac7714480eae",
        "colab": {
          "base_uri": "https://localhost:8080/"
        }
      },
      "execution_count": 57,
      "outputs": [
        {
          "output_type": "stream",
          "name": "stdout",
          "text": [
            "Count is equal to: 2962\n"
          ]
        }
      ]
    }
  ]
}